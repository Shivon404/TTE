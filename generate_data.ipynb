{
 "cells": [
  {
   "cell_type": "code",
   "execution_count": null,
   "metadata": {},
   "outputs": [
    {
     "name": "stdout",
     "output_type": "stream",
     "text": [
      "   id  period  treatment        x1        x2         x3  x4  age  age_s  \\\n",
      "0   1       3          1  6.220560  1.732742  37.700637   0   40   1600   \n",
      "1   2      29          0  0.125014 -4.561390  45.335189   1   40   1600   \n",
      "2   3      35          0  3.501642 -2.902261  44.436428   0   32   1024   \n",
      "3   4      18          1  0.280436 -0.110632  34.773011   1   31    961   \n",
      "4   5      20          0  6.164915 -0.579350  51.443649   1   70   4900   \n",
      "\n",
      "   outcome  censored  eligible  \n",
      "0        0         1         1  \n",
      "1        0         0         1  \n",
      "2        0         0         0  \n",
      "3        0         0         1  \n",
      "4        1         1         1  \n"
     ]
    }
   ],
   "source": [
    "# Import required libraries\n",
    "import pandas as pd\n",
    "import numpy as np\n",
    "\n",
    "# Set seed for reproducibility\n",
    "np.random.seed(123)\n",
    "\n",
    "# Generate the dataset\n",
    "data = {\n",
    "    'id': range(1, 1001),  # 1 to 1000\n",
    "    'period': np.random.randint(1, 37, size=1000),  # Random integers 1-36\n",
    "    'treatment': np.random.choice([0, 1], size=1000, p=[0.5, 0.5]),  # 50% 0, 50% 1\n",
    "    'x1': np.random.uniform(0, 10, size=1000),  # Uniform 0 to 10\n",
    "    'x2': np.random.uniform(-5, 5, size=1000),  # Uniform -5 to 5\n",
    "    'x3': np.random.normal(50, 10, size=1000),  # Normal, mean=50, sd=10\n",
    "    'x4': np.random.choice([0, 1], size=1000),  # Binary 0 or 1\n",
    "    'age': np.random.randint(18, 81, size=1000),  # Integers 18-80\n",
    "    'age_s': None,  # Placeholder, computed below\n",
    "    'outcome': np.random.choice([0, 1], size=1000, p=[0.7, 0.3]),  # 70% 0, 30% 1\n",
    "    'censored': np.random.choice([0, 1], size=1000, p=[0.6, 0.4]),  # 60% 0, 40% 1\n",
    "    'eligible': np.random.choice([0, 1], size=1000, p=[0.2, 0.8])  # 20% 0, 80% 1\n",
    "}\n",
    "\n",
    "# Create DataFrame\n",
    "df = pd.DataFrame(data)\n",
    "\n",
    "# Compute age_s as age squared\n",
    "df['age_s'] = df['age'] ** 2\n",
    "\n",
    "# Preview the first few rows\n",
    "print(df.head())\n",
    "\n",
    "# Save to CSV\n",
    "df.to_csv('data_censored.csv', index=False)"
   ]
  }
 ],
 "metadata": {
  "kernelspec": {
   "display_name": "Python 3",
   "language": "python",
   "name": "python3"
  },
  "language_info": {
   "codemirror_mode": {
    "name": "ipython",
    "version": 3
   },
   "file_extension": ".py",
   "mimetype": "text/x-python",
   "name": "python",
   "nbconvert_exporter": "python",
   "pygments_lexer": "ipython3",
   "version": "3.12.3"
  }
 },
 "nbformat": 4,
 "nbformat_minor": 2
}
